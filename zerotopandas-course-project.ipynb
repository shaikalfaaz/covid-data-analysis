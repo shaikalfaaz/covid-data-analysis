{
 "cells": [
  {
   "cell_type": "markdown",
   "metadata": {},
   "source": [
    "# WORLDOMETER COVID DATA-ANALYSIS\n",
    "\n",
    "### This Project gives a glimpse of  data analysis using pandas on covid19 pandemic situation in recent days\n",
    "\n",
    "The data is taken from worldomeneter live updates you can check this on https://www.worldometers.info/coronavirus/"
   ]
  },
  {
   "cell_type": "code",
   "execution_count": 1,
   "metadata": {},
   "outputs": [],
   "source": [
    "project_name = \"zerotopandas-course-project-worldometer\""
   ]
  },
  {
   "cell_type": "code",
   "execution_count": 2,
   "metadata": {},
   "outputs": [],
   "source": [
    "!pip install jovian --upgrade -q"
   ]
  },
  {
   "cell_type": "code",
   "execution_count": 3,
   "metadata": {},
   "outputs": [],
   "source": [
    "import jovian"
   ]
  },
  {
   "cell_type": "code",
   "execution_count": 4,
   "metadata": {},
   "outputs": [
    {
     "data": {
      "application/javascript": [
       "window.require && require([\"base/js/namespace\"],function(Jupyter){Jupyter.notebook.save_checkpoint()})"
      ],
      "text/plain": [
       "<IPython.core.display.Javascript object>"
      ]
     },
     "metadata": {},
     "output_type": "display_data"
    },
    {
     "name": "stdout",
     "output_type": "stream",
     "text": [
      "[jovian] Updating notebook \"shaikalfaaz8/zerotopandas-course-project-worldometer\" on https://jovian.ai\u001b[0m\n",
      "[jovian] Committed successfully! https://jovian.ai/shaikalfaaz8/zerotopandas-course-project-worldometer\u001b[0m\n"
     ]
    },
    {
     "data": {
      "text/plain": [
       "'https://jovian.ai/shaikalfaaz8/zerotopandas-course-project-worldometer'"
      ]
     },
     "execution_count": 4,
     "metadata": {},
     "output_type": "execute_result"
    }
   ],
   "source": [
    "jovian.commit(project=project_name)"
   ]
  },
  {
   "cell_type": "markdown",
   "metadata": {},
   "source": [
    "## Data Preparation and Cleaning\n",
    "\n"
   ]
  },
  {
   "cell_type": "markdown",
   "metadata": {},
   "source": [
    "Importing pandas library as \"pd\" to read the csv file 'worldometer_data.csv'"
   ]
  },
  {
   "cell_type": "code",
   "execution_count": 5,
   "metadata": {},
   "outputs": [],
   "source": [
    "import pandas as pd"
   ]
  },
  {
   "cell_type": "code",
   "execution_count": 6,
   "metadata": {},
   "outputs": [],
   "source": [
    "raw_df = pd.read_csv('worldometer_data.csv')"
   ]
  },
  {
   "cell_type": "markdown",
   "metadata": {},
   "source": [
    "displaying the contents of the dataframe"
   ]
  },
  {
   "cell_type": "code",
   "execution_count": 7,
   "metadata": {},
   "outputs": [
    {
     "data": {
      "text/html": [
       "<div>\n",
       "<style scoped>\n",
       "    .dataframe tbody tr th:only-of-type {\n",
       "        vertical-align: middle;\n",
       "    }\n",
       "\n",
       "    .dataframe tbody tr th {\n",
       "        vertical-align: top;\n",
       "    }\n",
       "\n",
       "    .dataframe thead th {\n",
       "        text-align: right;\n",
       "    }\n",
       "</style>\n",
       "<table border=\"1\" class=\"dataframe\">\n",
       "  <thead>\n",
       "    <tr style=\"text-align: right;\">\n",
       "      <th></th>\n",
       "      <th>Country/Region</th>\n",
       "      <th>Continent</th>\n",
       "      <th>Population</th>\n",
       "      <th>TotalCases</th>\n",
       "      <th>NewCases</th>\n",
       "      <th>TotalDeaths</th>\n",
       "      <th>NewDeaths</th>\n",
       "      <th>TotalRecovered</th>\n",
       "      <th>NewRecovered</th>\n",
       "      <th>ActiveCases</th>\n",
       "      <th>Serious,Critical</th>\n",
       "      <th>TotalTests</th>\n",
       "    </tr>\n",
       "  </thead>\n",
       "  <tbody>\n",
       "    <tr>\n",
       "      <th>0</th>\n",
       "      <td>USA</td>\n",
       "      <td>North America</td>\n",
       "      <td>3.311981e+08</td>\n",
       "      <td>5032179</td>\n",
       "      <td>NaN</td>\n",
       "      <td>162804.0</td>\n",
       "      <td>NaN</td>\n",
       "      <td>2576668.0</td>\n",
       "      <td>NaN</td>\n",
       "      <td>2292707.0</td>\n",
       "      <td>18296.0</td>\n",
       "      <td>63139605.0</td>\n",
       "    </tr>\n",
       "    <tr>\n",
       "      <th>1</th>\n",
       "      <td>Brazil</td>\n",
       "      <td>South America</td>\n",
       "      <td>2.127107e+08</td>\n",
       "      <td>2917562</td>\n",
       "      <td>NaN</td>\n",
       "      <td>98644.0</td>\n",
       "      <td>NaN</td>\n",
       "      <td>2047660.0</td>\n",
       "      <td>NaN</td>\n",
       "      <td>771258.0</td>\n",
       "      <td>8318.0</td>\n",
       "      <td>13206188.0</td>\n",
       "    </tr>\n",
       "    <tr>\n",
       "      <th>2</th>\n",
       "      <td>India</td>\n",
       "      <td>Asia</td>\n",
       "      <td>1.381345e+09</td>\n",
       "      <td>2025409</td>\n",
       "      <td>NaN</td>\n",
       "      <td>41638.0</td>\n",
       "      <td>NaN</td>\n",
       "      <td>1377384.0</td>\n",
       "      <td>NaN</td>\n",
       "      <td>606387.0</td>\n",
       "      <td>8944.0</td>\n",
       "      <td>22149351.0</td>\n",
       "    </tr>\n",
       "    <tr>\n",
       "      <th>3</th>\n",
       "      <td>Russia</td>\n",
       "      <td>Europe</td>\n",
       "      <td>1.459409e+08</td>\n",
       "      <td>871894</td>\n",
       "      <td>NaN</td>\n",
       "      <td>14606.0</td>\n",
       "      <td>NaN</td>\n",
       "      <td>676357.0</td>\n",
       "      <td>NaN</td>\n",
       "      <td>180931.0</td>\n",
       "      <td>2300.0</td>\n",
       "      <td>29716907.0</td>\n",
       "    </tr>\n",
       "    <tr>\n",
       "      <th>4</th>\n",
       "      <td>South Africa</td>\n",
       "      <td>Africa</td>\n",
       "      <td>5.938157e+07</td>\n",
       "      <td>538184</td>\n",
       "      <td>NaN</td>\n",
       "      <td>9604.0</td>\n",
       "      <td>NaN</td>\n",
       "      <td>387316.0</td>\n",
       "      <td>NaN</td>\n",
       "      <td>141264.0</td>\n",
       "      <td>539.0</td>\n",
       "      <td>3149807.0</td>\n",
       "    </tr>\n",
       "    <tr>\n",
       "      <th>...</th>\n",
       "      <td>...</td>\n",
       "      <td>...</td>\n",
       "      <td>...</td>\n",
       "      <td>...</td>\n",
       "      <td>...</td>\n",
       "      <td>...</td>\n",
       "      <td>...</td>\n",
       "      <td>...</td>\n",
       "      <td>...</td>\n",
       "      <td>...</td>\n",
       "      <td>...</td>\n",
       "      <td>...</td>\n",
       "    </tr>\n",
       "    <tr>\n",
       "      <th>204</th>\n",
       "      <td>Montserrat</td>\n",
       "      <td>North America</td>\n",
       "      <td>4.992000e+03</td>\n",
       "      <td>13</td>\n",
       "      <td>NaN</td>\n",
       "      <td>1.0</td>\n",
       "      <td>NaN</td>\n",
       "      <td>10.0</td>\n",
       "      <td>NaN</td>\n",
       "      <td>2.0</td>\n",
       "      <td>NaN</td>\n",
       "      <td>61.0</td>\n",
       "    </tr>\n",
       "    <tr>\n",
       "      <th>205</th>\n",
       "      <td>Caribbean Netherlands</td>\n",
       "      <td>North America</td>\n",
       "      <td>2.624700e+04</td>\n",
       "      <td>13</td>\n",
       "      <td>NaN</td>\n",
       "      <td>NaN</td>\n",
       "      <td>NaN</td>\n",
       "      <td>7.0</td>\n",
       "      <td>NaN</td>\n",
       "      <td>6.0</td>\n",
       "      <td>NaN</td>\n",
       "      <td>424.0</td>\n",
       "    </tr>\n",
       "    <tr>\n",
       "      <th>206</th>\n",
       "      <td>Falkland Islands</td>\n",
       "      <td>South America</td>\n",
       "      <td>3.489000e+03</td>\n",
       "      <td>13</td>\n",
       "      <td>NaN</td>\n",
       "      <td>NaN</td>\n",
       "      <td>NaN</td>\n",
       "      <td>13.0</td>\n",
       "      <td>NaN</td>\n",
       "      <td>0.0</td>\n",
       "      <td>NaN</td>\n",
       "      <td>1816.0</td>\n",
       "    </tr>\n",
       "    <tr>\n",
       "      <th>207</th>\n",
       "      <td>Vatican City</td>\n",
       "      <td>Europe</td>\n",
       "      <td>8.010000e+02</td>\n",
       "      <td>12</td>\n",
       "      <td>NaN</td>\n",
       "      <td>NaN</td>\n",
       "      <td>NaN</td>\n",
       "      <td>12.0</td>\n",
       "      <td>NaN</td>\n",
       "      <td>0.0</td>\n",
       "      <td>NaN</td>\n",
       "      <td>NaN</td>\n",
       "    </tr>\n",
       "    <tr>\n",
       "      <th>208</th>\n",
       "      <td>Western Sahara</td>\n",
       "      <td>Africa</td>\n",
       "      <td>5.986820e+05</td>\n",
       "      <td>10</td>\n",
       "      <td>NaN</td>\n",
       "      <td>1.0</td>\n",
       "      <td>NaN</td>\n",
       "      <td>8.0</td>\n",
       "      <td>NaN</td>\n",
       "      <td>1.0</td>\n",
       "      <td>NaN</td>\n",
       "      <td>NaN</td>\n",
       "    </tr>\n",
       "  </tbody>\n",
       "</table>\n",
       "<p>209 rows × 12 columns</p>\n",
       "</div>"
      ],
      "text/plain": [
       "            Country/Region      Continent    Population  TotalCases  NewCases  \\\n",
       "0                      USA  North America  3.311981e+08     5032179       NaN   \n",
       "1                   Brazil  South America  2.127107e+08     2917562       NaN   \n",
       "2                    India           Asia  1.381345e+09     2025409       NaN   \n",
       "3                   Russia         Europe  1.459409e+08      871894       NaN   \n",
       "4             South Africa         Africa  5.938157e+07      538184       NaN   \n",
       "..                     ...            ...           ...         ...       ...   \n",
       "204             Montserrat  North America  4.992000e+03          13       NaN   \n",
       "205  Caribbean Netherlands  North America  2.624700e+04          13       NaN   \n",
       "206       Falkland Islands  South America  3.489000e+03          13       NaN   \n",
       "207           Vatican City         Europe  8.010000e+02          12       NaN   \n",
       "208         Western Sahara         Africa  5.986820e+05          10       NaN   \n",
       "\n",
       "     TotalDeaths  NewDeaths  TotalRecovered  NewRecovered  ActiveCases  \\\n",
       "0       162804.0        NaN       2576668.0           NaN    2292707.0   \n",
       "1        98644.0        NaN       2047660.0           NaN     771258.0   \n",
       "2        41638.0        NaN       1377384.0           NaN     606387.0   \n",
       "3        14606.0        NaN        676357.0           NaN     180931.0   \n",
       "4         9604.0        NaN        387316.0           NaN     141264.0   \n",
       "..           ...        ...             ...           ...          ...   \n",
       "204          1.0        NaN            10.0           NaN          2.0   \n",
       "205          NaN        NaN             7.0           NaN          6.0   \n",
       "206          NaN        NaN            13.0           NaN          0.0   \n",
       "207          NaN        NaN            12.0           NaN          0.0   \n",
       "208          1.0        NaN             8.0           NaN          1.0   \n",
       "\n",
       "     Serious,Critical  TotalTests  \n",
       "0             18296.0  63139605.0  \n",
       "1              8318.0  13206188.0  \n",
       "2              8944.0  22149351.0  \n",
       "3              2300.0  29716907.0  \n",
       "4               539.0   3149807.0  \n",
       "..                ...         ...  \n",
       "204               NaN        61.0  \n",
       "205               NaN       424.0  \n",
       "206               NaN      1816.0  \n",
       "207               NaN         NaN  \n",
       "208               NaN         NaN  \n",
       "\n",
       "[209 rows x 12 columns]"
      ]
     },
     "execution_count": 7,
     "metadata": {},
     "output_type": "execute_result"
    }
   ],
   "source": [
    "raw_df"
   ]
  },
  {
   "cell_type": "markdown",
   "metadata": {},
   "source": [
    "displaying the columns and the size of the dataframe using .columns and .shape respectively"
   ]
  },
  {
   "cell_type": "code",
   "execution_count": 8,
   "metadata": {},
   "outputs": [
    {
     "data": {
      "text/plain": [
       "Index(['Country/Region', 'Continent', 'Population', 'TotalCases', 'NewCases',\n",
       "       'TotalDeaths', 'NewDeaths', 'TotalRecovered', 'NewRecovered',\n",
       "       'ActiveCases', 'Serious,Critical', 'TotalTests'],\n",
       "      dtype='object')"
      ]
     },
     "execution_count": 8,
     "metadata": {},
     "output_type": "execute_result"
    }
   ],
   "source": [
    "raw_df.columns"
   ]
  },
  {
   "cell_type": "code",
   "execution_count": 9,
   "metadata": {},
   "outputs": [
    {
     "data": {
      "text/plain": [
       "(209, 12)"
      ]
     },
     "execution_count": 9,
     "metadata": {},
     "output_type": "execute_result"
    }
   ],
   "source": [
    "raw_df.shape"
   ]
  },
  {
   "cell_type": "markdown",
   "metadata": {},
   "source": [
    "### isna() function:\n",
    "This function returns a boolean value if the data is not present(NAN) \n",
    "\n",
    "that means if it returns true then there is no value at that index"
   ]
  },
  {
   "cell_type": "code",
   "execution_count": 10,
   "metadata": {},
   "outputs": [
    {
     "data": {
      "text/html": [
       "<div>\n",
       "<style scoped>\n",
       "    .dataframe tbody tr th:only-of-type {\n",
       "        vertical-align: middle;\n",
       "    }\n",
       "\n",
       "    .dataframe tbody tr th {\n",
       "        vertical-align: top;\n",
       "    }\n",
       "\n",
       "    .dataframe thead th {\n",
       "        text-align: right;\n",
       "    }\n",
       "</style>\n",
       "<table border=\"1\" class=\"dataframe\">\n",
       "  <thead>\n",
       "    <tr style=\"text-align: right;\">\n",
       "      <th></th>\n",
       "      <th>Country/Region</th>\n",
       "      <th>Continent</th>\n",
       "      <th>Population</th>\n",
       "      <th>TotalCases</th>\n",
       "      <th>NewCases</th>\n",
       "      <th>TotalDeaths</th>\n",
       "      <th>NewDeaths</th>\n",
       "      <th>TotalRecovered</th>\n",
       "      <th>NewRecovered</th>\n",
       "      <th>ActiveCases</th>\n",
       "      <th>Serious,Critical</th>\n",
       "      <th>TotalTests</th>\n",
       "    </tr>\n",
       "  </thead>\n",
       "  <tbody>\n",
       "    <tr>\n",
       "      <th>0</th>\n",
       "      <td>False</td>\n",
       "      <td>False</td>\n",
       "      <td>False</td>\n",
       "      <td>False</td>\n",
       "      <td>True</td>\n",
       "      <td>False</td>\n",
       "      <td>True</td>\n",
       "      <td>False</td>\n",
       "      <td>True</td>\n",
       "      <td>False</td>\n",
       "      <td>False</td>\n",
       "      <td>False</td>\n",
       "    </tr>\n",
       "    <tr>\n",
       "      <th>1</th>\n",
       "      <td>False</td>\n",
       "      <td>False</td>\n",
       "      <td>False</td>\n",
       "      <td>False</td>\n",
       "      <td>True</td>\n",
       "      <td>False</td>\n",
       "      <td>True</td>\n",
       "      <td>False</td>\n",
       "      <td>True</td>\n",
       "      <td>False</td>\n",
       "      <td>False</td>\n",
       "      <td>False</td>\n",
       "    </tr>\n",
       "    <tr>\n",
       "      <th>2</th>\n",
       "      <td>False</td>\n",
       "      <td>False</td>\n",
       "      <td>False</td>\n",
       "      <td>False</td>\n",
       "      <td>True</td>\n",
       "      <td>False</td>\n",
       "      <td>True</td>\n",
       "      <td>False</td>\n",
       "      <td>True</td>\n",
       "      <td>False</td>\n",
       "      <td>False</td>\n",
       "      <td>False</td>\n",
       "    </tr>\n",
       "    <tr>\n",
       "      <th>3</th>\n",
       "      <td>False</td>\n",
       "      <td>False</td>\n",
       "      <td>False</td>\n",
       "      <td>False</td>\n",
       "      <td>True</td>\n",
       "      <td>False</td>\n",
       "      <td>True</td>\n",
       "      <td>False</td>\n",
       "      <td>True</td>\n",
       "      <td>False</td>\n",
       "      <td>False</td>\n",
       "      <td>False</td>\n",
       "    </tr>\n",
       "    <tr>\n",
       "      <th>4</th>\n",
       "      <td>False</td>\n",
       "      <td>False</td>\n",
       "      <td>False</td>\n",
       "      <td>False</td>\n",
       "      <td>True</td>\n",
       "      <td>False</td>\n",
       "      <td>True</td>\n",
       "      <td>False</td>\n",
       "      <td>True</td>\n",
       "      <td>False</td>\n",
       "      <td>False</td>\n",
       "      <td>False</td>\n",
       "    </tr>\n",
       "    <tr>\n",
       "      <th>...</th>\n",
       "      <td>...</td>\n",
       "      <td>...</td>\n",
       "      <td>...</td>\n",
       "      <td>...</td>\n",
       "      <td>...</td>\n",
       "      <td>...</td>\n",
       "      <td>...</td>\n",
       "      <td>...</td>\n",
       "      <td>...</td>\n",
       "      <td>...</td>\n",
       "      <td>...</td>\n",
       "      <td>...</td>\n",
       "    </tr>\n",
       "    <tr>\n",
       "      <th>204</th>\n",
       "      <td>False</td>\n",
       "      <td>False</td>\n",
       "      <td>False</td>\n",
       "      <td>False</td>\n",
       "      <td>True</td>\n",
       "      <td>False</td>\n",
       "      <td>True</td>\n",
       "      <td>False</td>\n",
       "      <td>True</td>\n",
       "      <td>False</td>\n",
       "      <td>True</td>\n",
       "      <td>False</td>\n",
       "    </tr>\n",
       "    <tr>\n",
       "      <th>205</th>\n",
       "      <td>False</td>\n",
       "      <td>False</td>\n",
       "      <td>False</td>\n",
       "      <td>False</td>\n",
       "      <td>True</td>\n",
       "      <td>True</td>\n",
       "      <td>True</td>\n",
       "      <td>False</td>\n",
       "      <td>True</td>\n",
       "      <td>False</td>\n",
       "      <td>True</td>\n",
       "      <td>False</td>\n",
       "    </tr>\n",
       "    <tr>\n",
       "      <th>206</th>\n",
       "      <td>False</td>\n",
       "      <td>False</td>\n",
       "      <td>False</td>\n",
       "      <td>False</td>\n",
       "      <td>True</td>\n",
       "      <td>True</td>\n",
       "      <td>True</td>\n",
       "      <td>False</td>\n",
       "      <td>True</td>\n",
       "      <td>False</td>\n",
       "      <td>True</td>\n",
       "      <td>False</td>\n",
       "    </tr>\n",
       "    <tr>\n",
       "      <th>207</th>\n",
       "      <td>False</td>\n",
       "      <td>False</td>\n",
       "      <td>False</td>\n",
       "      <td>False</td>\n",
       "      <td>True</td>\n",
       "      <td>True</td>\n",
       "      <td>True</td>\n",
       "      <td>False</td>\n",
       "      <td>True</td>\n",
       "      <td>False</td>\n",
       "      <td>True</td>\n",
       "      <td>True</td>\n",
       "    </tr>\n",
       "    <tr>\n",
       "      <th>208</th>\n",
       "      <td>False</td>\n",
       "      <td>False</td>\n",
       "      <td>False</td>\n",
       "      <td>False</td>\n",
       "      <td>True</td>\n",
       "      <td>False</td>\n",
       "      <td>True</td>\n",
       "      <td>False</td>\n",
       "      <td>True</td>\n",
       "      <td>False</td>\n",
       "      <td>True</td>\n",
       "      <td>True</td>\n",
       "    </tr>\n",
       "  </tbody>\n",
       "</table>\n",
       "<p>209 rows × 12 columns</p>\n",
       "</div>"
      ],
      "text/plain": [
       "     Country/Region  Continent  Population  TotalCases  NewCases  TotalDeaths  \\\n",
       "0             False      False       False       False      True        False   \n",
       "1             False      False       False       False      True        False   \n",
       "2             False      False       False       False      True        False   \n",
       "3             False      False       False       False      True        False   \n",
       "4             False      False       False       False      True        False   \n",
       "..              ...        ...         ...         ...       ...          ...   \n",
       "204           False      False       False       False      True        False   \n",
       "205           False      False       False       False      True         True   \n",
       "206           False      False       False       False      True         True   \n",
       "207           False      False       False       False      True         True   \n",
       "208           False      False       False       False      True        False   \n",
       "\n",
       "     NewDeaths  TotalRecovered  NewRecovered  ActiveCases  Serious,Critical  \\\n",
       "0         True           False          True        False             False   \n",
       "1         True           False          True        False             False   \n",
       "2         True           False          True        False             False   \n",
       "3         True           False          True        False             False   \n",
       "4         True           False          True        False             False   \n",
       "..         ...             ...           ...          ...               ...   \n",
       "204       True           False          True        False              True   \n",
       "205       True           False          True        False              True   \n",
       "206       True           False          True        False              True   \n",
       "207       True           False          True        False              True   \n",
       "208       True           False          True        False              True   \n",
       "\n",
       "     TotalTests  \n",
       "0         False  \n",
       "1         False  \n",
       "2         False  \n",
       "3         False  \n",
       "4         False  \n",
       "..          ...  \n",
       "204       False  \n",
       "205       False  \n",
       "206       False  \n",
       "207        True  \n",
       "208        True  \n",
       "\n",
       "[209 rows x 12 columns]"
      ]
     },
     "execution_count": 10,
     "metadata": {},
     "output_type": "execute_result"
    }
   ],
   "source": [
    "raw_df.isna()"
   ]
  },
  {
   "cell_type": "markdown",
   "metadata": {},
   "source": [
    "### Adding a column:\n",
    "\n",
    "that describes total number of cases per million as follows\n",
    "\n",
    "syntax:\n",
    "\n",
    "dataframe['newcolumn'] = dataframe['cases'] * million / dataframe['population'}"
   ]
  },
  {
   "cell_type": "code",
   "execution_count": 11,
   "metadata": {},
   "outputs": [],
   "source": [
    "raw_df['totalcases_permil'] = raw_df['TotalCases'] * 1e6 / raw_df['Population']"
   ]
  },
  {
   "cell_type": "code",
   "execution_count": 12,
   "metadata": {
    "scrolled": true
   },
   "outputs": [
    {
     "data": {
      "text/html": [
       "<div>\n",
       "<style scoped>\n",
       "    .dataframe tbody tr th:only-of-type {\n",
       "        vertical-align: middle;\n",
       "    }\n",
       "\n",
       "    .dataframe tbody tr th {\n",
       "        vertical-align: top;\n",
       "    }\n",
       "\n",
       "    .dataframe thead th {\n",
       "        text-align: right;\n",
       "    }\n",
       "</style>\n",
       "<table border=\"1\" class=\"dataframe\">\n",
       "  <thead>\n",
       "    <tr style=\"text-align: right;\">\n",
       "      <th></th>\n",
       "      <th>Country/Region</th>\n",
       "      <th>Continent</th>\n",
       "      <th>Population</th>\n",
       "      <th>TotalCases</th>\n",
       "      <th>NewCases</th>\n",
       "      <th>TotalDeaths</th>\n",
       "      <th>NewDeaths</th>\n",
       "      <th>TotalRecovered</th>\n",
       "      <th>NewRecovered</th>\n",
       "      <th>ActiveCases</th>\n",
       "      <th>Serious,Critical</th>\n",
       "      <th>TotalTests</th>\n",
       "      <th>totalcases_permil</th>\n",
       "    </tr>\n",
       "  </thead>\n",
       "  <tbody>\n",
       "    <tr>\n",
       "      <th>0</th>\n",
       "      <td>USA</td>\n",
       "      <td>North America</td>\n",
       "      <td>3.311981e+08</td>\n",
       "      <td>5032179</td>\n",
       "      <td>NaN</td>\n",
       "      <td>162804.0</td>\n",
       "      <td>NaN</td>\n",
       "      <td>2576668.0</td>\n",
       "      <td>NaN</td>\n",
       "      <td>2292707.0</td>\n",
       "      <td>18296.0</td>\n",
       "      <td>63139605.0</td>\n",
       "      <td>15193.862961</td>\n",
       "    </tr>\n",
       "    <tr>\n",
       "      <th>1</th>\n",
       "      <td>Brazil</td>\n",
       "      <td>South America</td>\n",
       "      <td>2.127107e+08</td>\n",
       "      <td>2917562</td>\n",
       "      <td>NaN</td>\n",
       "      <td>98644.0</td>\n",
       "      <td>NaN</td>\n",
       "      <td>2047660.0</td>\n",
       "      <td>NaN</td>\n",
       "      <td>771258.0</td>\n",
       "      <td>8318.0</td>\n",
       "      <td>13206188.0</td>\n",
       "      <td>13716.104125</td>\n",
       "    </tr>\n",
       "    <tr>\n",
       "      <th>2</th>\n",
       "      <td>India</td>\n",
       "      <td>Asia</td>\n",
       "      <td>1.381345e+09</td>\n",
       "      <td>2025409</td>\n",
       "      <td>NaN</td>\n",
       "      <td>41638.0</td>\n",
       "      <td>NaN</td>\n",
       "      <td>1377384.0</td>\n",
       "      <td>NaN</td>\n",
       "      <td>606387.0</td>\n",
       "      <td>8944.0</td>\n",
       "      <td>22149351.0</td>\n",
       "      <td>1466.258613</td>\n",
       "    </tr>\n",
       "    <tr>\n",
       "      <th>3</th>\n",
       "      <td>Russia</td>\n",
       "      <td>Europe</td>\n",
       "      <td>1.459409e+08</td>\n",
       "      <td>871894</td>\n",
       "      <td>NaN</td>\n",
       "      <td>14606.0</td>\n",
       "      <td>NaN</td>\n",
       "      <td>676357.0</td>\n",
       "      <td>NaN</td>\n",
       "      <td>180931.0</td>\n",
       "      <td>2300.0</td>\n",
       "      <td>29716907.0</td>\n",
       "      <td>5974.294092</td>\n",
       "    </tr>\n",
       "    <tr>\n",
       "      <th>4</th>\n",
       "      <td>South Africa</td>\n",
       "      <td>Africa</td>\n",
       "      <td>5.938157e+07</td>\n",
       "      <td>538184</td>\n",
       "      <td>NaN</td>\n",
       "      <td>9604.0</td>\n",
       "      <td>NaN</td>\n",
       "      <td>387316.0</td>\n",
       "      <td>NaN</td>\n",
       "      <td>141264.0</td>\n",
       "      <td>539.0</td>\n",
       "      <td>3149807.0</td>\n",
       "      <td>9063.149328</td>\n",
       "    </tr>\n",
       "    <tr>\n",
       "      <th>...</th>\n",
       "      <td>...</td>\n",
       "      <td>...</td>\n",
       "      <td>...</td>\n",
       "      <td>...</td>\n",
       "      <td>...</td>\n",
       "      <td>...</td>\n",
       "      <td>...</td>\n",
       "      <td>...</td>\n",
       "      <td>...</td>\n",
       "      <td>...</td>\n",
       "      <td>...</td>\n",
       "      <td>...</td>\n",
       "      <td>...</td>\n",
       "    </tr>\n",
       "    <tr>\n",
       "      <th>204</th>\n",
       "      <td>Montserrat</td>\n",
       "      <td>North America</td>\n",
       "      <td>4.992000e+03</td>\n",
       "      <td>13</td>\n",
       "      <td>NaN</td>\n",
       "      <td>1.0</td>\n",
       "      <td>NaN</td>\n",
       "      <td>10.0</td>\n",
       "      <td>NaN</td>\n",
       "      <td>2.0</td>\n",
       "      <td>NaN</td>\n",
       "      <td>61.0</td>\n",
       "      <td>2604.166667</td>\n",
       "    </tr>\n",
       "    <tr>\n",
       "      <th>205</th>\n",
       "      <td>Caribbean Netherlands</td>\n",
       "      <td>North America</td>\n",
       "      <td>2.624700e+04</td>\n",
       "      <td>13</td>\n",
       "      <td>NaN</td>\n",
       "      <td>NaN</td>\n",
       "      <td>NaN</td>\n",
       "      <td>7.0</td>\n",
       "      <td>NaN</td>\n",
       "      <td>6.0</td>\n",
       "      <td>NaN</td>\n",
       "      <td>424.0</td>\n",
       "      <td>495.294700</td>\n",
       "    </tr>\n",
       "    <tr>\n",
       "      <th>206</th>\n",
       "      <td>Falkland Islands</td>\n",
       "      <td>South America</td>\n",
       "      <td>3.489000e+03</td>\n",
       "      <td>13</td>\n",
       "      <td>NaN</td>\n",
       "      <td>NaN</td>\n",
       "      <td>NaN</td>\n",
       "      <td>13.0</td>\n",
       "      <td>NaN</td>\n",
       "      <td>0.0</td>\n",
       "      <td>NaN</td>\n",
       "      <td>1816.0</td>\n",
       "      <td>3725.995987</td>\n",
       "    </tr>\n",
       "    <tr>\n",
       "      <th>207</th>\n",
       "      <td>Vatican City</td>\n",
       "      <td>Europe</td>\n",
       "      <td>8.010000e+02</td>\n",
       "      <td>12</td>\n",
       "      <td>NaN</td>\n",
       "      <td>NaN</td>\n",
       "      <td>NaN</td>\n",
       "      <td>12.0</td>\n",
       "      <td>NaN</td>\n",
       "      <td>0.0</td>\n",
       "      <td>NaN</td>\n",
       "      <td>NaN</td>\n",
       "      <td>14981.273408</td>\n",
       "    </tr>\n",
       "    <tr>\n",
       "      <th>208</th>\n",
       "      <td>Western Sahara</td>\n",
       "      <td>Africa</td>\n",
       "      <td>5.986820e+05</td>\n",
       "      <td>10</td>\n",
       "      <td>NaN</td>\n",
       "      <td>1.0</td>\n",
       "      <td>NaN</td>\n",
       "      <td>8.0</td>\n",
       "      <td>NaN</td>\n",
       "      <td>1.0</td>\n",
       "      <td>NaN</td>\n",
       "      <td>NaN</td>\n",
       "      <td>16.703358</td>\n",
       "    </tr>\n",
       "  </tbody>\n",
       "</table>\n",
       "<p>209 rows × 13 columns</p>\n",
       "</div>"
      ],
      "text/plain": [
       "            Country/Region      Continent    Population  TotalCases  NewCases  \\\n",
       "0                      USA  North America  3.311981e+08     5032179       NaN   \n",
       "1                   Brazil  South America  2.127107e+08     2917562       NaN   \n",
       "2                    India           Asia  1.381345e+09     2025409       NaN   \n",
       "3                   Russia         Europe  1.459409e+08      871894       NaN   \n",
       "4             South Africa         Africa  5.938157e+07      538184       NaN   \n",
       "..                     ...            ...           ...         ...       ...   \n",
       "204             Montserrat  North America  4.992000e+03          13       NaN   \n",
       "205  Caribbean Netherlands  North America  2.624700e+04          13       NaN   \n",
       "206       Falkland Islands  South America  3.489000e+03          13       NaN   \n",
       "207           Vatican City         Europe  8.010000e+02          12       NaN   \n",
       "208         Western Sahara         Africa  5.986820e+05          10       NaN   \n",
       "\n",
       "     TotalDeaths  NewDeaths  TotalRecovered  NewRecovered  ActiveCases  \\\n",
       "0       162804.0        NaN       2576668.0           NaN    2292707.0   \n",
       "1        98644.0        NaN       2047660.0           NaN     771258.0   \n",
       "2        41638.0        NaN       1377384.0           NaN     606387.0   \n",
       "3        14606.0        NaN        676357.0           NaN     180931.0   \n",
       "4         9604.0        NaN        387316.0           NaN     141264.0   \n",
       "..           ...        ...             ...           ...          ...   \n",
       "204          1.0        NaN            10.0           NaN          2.0   \n",
       "205          NaN        NaN             7.0           NaN          6.0   \n",
       "206          NaN        NaN            13.0           NaN          0.0   \n",
       "207          NaN        NaN            12.0           NaN          0.0   \n",
       "208          1.0        NaN             8.0           NaN          1.0   \n",
       "\n",
       "     Serious,Critical  TotalTests  totalcases_permil  \n",
       "0             18296.0  63139605.0       15193.862961  \n",
       "1              8318.0  13206188.0       13716.104125  \n",
       "2              8944.0  22149351.0        1466.258613  \n",
       "3              2300.0  29716907.0        5974.294092  \n",
       "4               539.0   3149807.0        9063.149328  \n",
       "..                ...         ...                ...  \n",
       "204               NaN        61.0        2604.166667  \n",
       "205               NaN       424.0         495.294700  \n",
       "206               NaN      1816.0        3725.995987  \n",
       "207               NaN         NaN       14981.273408  \n",
       "208               NaN         NaN          16.703358  \n",
       "\n",
       "[209 rows x 13 columns]"
      ]
     },
     "execution_count": 12,
     "metadata": {},
     "output_type": "execute_result"
    }
   ],
   "source": [
    "raw_df"
   ]
  },
  {
   "cell_type": "markdown",
   "metadata": {},
   "source": [
    "Similiarly from the above process \n",
    "\n",
    "adding multiple columns of deaths, tests and recovery per million respectively"
   ]
  },
  {
   "cell_type": "code",
   "execution_count": 13,
   "metadata": {},
   "outputs": [],
   "source": [
    "raw_df['totaldeaths_permil'] = raw_df['TotalDeaths'] * 1e6 / raw_df['Population']"
   ]
  },
  {
   "cell_type": "code",
   "execution_count": 14,
   "metadata": {},
   "outputs": [],
   "source": [
    "raw_df['totaltests_permil'] = raw_df['TotalTests'] * 1e6 / raw_df['Population']"
   ]
  },
  {
   "cell_type": "code",
   "execution_count": 15,
   "metadata": {},
   "outputs": [],
   "source": [
    "raw_df['totalrecovered_permil'] = raw_df['TotalRecovered'] * 1e6 / raw_df['Population']"
   ]
  },
  {
   "cell_type": "code",
   "execution_count": 16,
   "metadata": {},
   "outputs": [
    {
     "data": {
      "text/html": [
       "<div>\n",
       "<style scoped>\n",
       "    .dataframe tbody tr th:only-of-type {\n",
       "        vertical-align: middle;\n",
       "    }\n",
       "\n",
       "    .dataframe tbody tr th {\n",
       "        vertical-align: top;\n",
       "    }\n",
       "\n",
       "    .dataframe thead th {\n",
       "        text-align: right;\n",
       "    }\n",
       "</style>\n",
       "<table border=\"1\" class=\"dataframe\">\n",
       "  <thead>\n",
       "    <tr style=\"text-align: right;\">\n",
       "      <th></th>\n",
       "      <th>Country/Region</th>\n",
       "      <th>Continent</th>\n",
       "      <th>Population</th>\n",
       "      <th>TotalCases</th>\n",
       "      <th>NewCases</th>\n",
       "      <th>TotalDeaths</th>\n",
       "      <th>NewDeaths</th>\n",
       "      <th>TotalRecovered</th>\n",
       "      <th>NewRecovered</th>\n",
       "      <th>ActiveCases</th>\n",
       "      <th>Serious,Critical</th>\n",
       "      <th>TotalTests</th>\n",
       "      <th>totalcases_permil</th>\n",
       "      <th>totaldeaths_permil</th>\n",
       "      <th>totaltests_permil</th>\n",
       "      <th>totalrecovered_permil</th>\n",
       "    </tr>\n",
       "  </thead>\n",
       "  <tbody>\n",
       "    <tr>\n",
       "      <th>0</th>\n",
       "      <td>USA</td>\n",
       "      <td>North America</td>\n",
       "      <td>3.311981e+08</td>\n",
       "      <td>5032179</td>\n",
       "      <td>NaN</td>\n",
       "      <td>162804.0</td>\n",
       "      <td>NaN</td>\n",
       "      <td>2576668.0</td>\n",
       "      <td>NaN</td>\n",
       "      <td>2292707.0</td>\n",
       "      <td>18296.0</td>\n",
       "      <td>63139605.0</td>\n",
       "      <td>15193.862961</td>\n",
       "      <td>491.560746</td>\n",
       "      <td>190639.980365</td>\n",
       "      <td>7779.838612</td>\n",
       "    </tr>\n",
       "    <tr>\n",
       "      <th>1</th>\n",
       "      <td>Brazil</td>\n",
       "      <td>South America</td>\n",
       "      <td>2.127107e+08</td>\n",
       "      <td>2917562</td>\n",
       "      <td>NaN</td>\n",
       "      <td>98644.0</td>\n",
       "      <td>NaN</td>\n",
       "      <td>2047660.0</td>\n",
       "      <td>NaN</td>\n",
       "      <td>771258.0</td>\n",
       "      <td>8318.0</td>\n",
       "      <td>13206188.0</td>\n",
       "      <td>13716.104125</td>\n",
       "      <td>463.747257</td>\n",
       "      <td>62085.210084</td>\n",
       "      <td>9626.502461</td>\n",
       "    </tr>\n",
       "    <tr>\n",
       "      <th>2</th>\n",
       "      <td>India</td>\n",
       "      <td>Asia</td>\n",
       "      <td>1.381345e+09</td>\n",
       "      <td>2025409</td>\n",
       "      <td>NaN</td>\n",
       "      <td>41638.0</td>\n",
       "      <td>NaN</td>\n",
       "      <td>1377384.0</td>\n",
       "      <td>NaN</td>\n",
       "      <td>606387.0</td>\n",
       "      <td>8944.0</td>\n",
       "      <td>22149351.0</td>\n",
       "      <td>1466.258613</td>\n",
       "      <td>30.143085</td>\n",
       "      <td>16034.626432</td>\n",
       "      <td>997.132507</td>\n",
       "    </tr>\n",
       "    <tr>\n",
       "      <th>3</th>\n",
       "      <td>Russia</td>\n",
       "      <td>Europe</td>\n",
       "      <td>1.459409e+08</td>\n",
       "      <td>871894</td>\n",
       "      <td>NaN</td>\n",
       "      <td>14606.0</td>\n",
       "      <td>NaN</td>\n",
       "      <td>676357.0</td>\n",
       "      <td>NaN</td>\n",
       "      <td>180931.0</td>\n",
       "      <td>2300.0</td>\n",
       "      <td>29716907.0</td>\n",
       "      <td>5974.294092</td>\n",
       "      <td>100.081592</td>\n",
       "      <td>203622.850846</td>\n",
       "      <td>4634.457433</td>\n",
       "    </tr>\n",
       "    <tr>\n",
       "      <th>4</th>\n",
       "      <td>South Africa</td>\n",
       "      <td>Africa</td>\n",
       "      <td>5.938157e+07</td>\n",
       "      <td>538184</td>\n",
       "      <td>NaN</td>\n",
       "      <td>9604.0</td>\n",
       "      <td>NaN</td>\n",
       "      <td>387316.0</td>\n",
       "      <td>NaN</td>\n",
       "      <td>141264.0</td>\n",
       "      <td>539.0</td>\n",
       "      <td>3149807.0</td>\n",
       "      <td>9063.149328</td>\n",
       "      <td>161.733694</td>\n",
       "      <td>53043.515222</td>\n",
       "      <td>6522.495550</td>\n",
       "    </tr>\n",
       "    <tr>\n",
       "      <th>...</th>\n",
       "      <td>...</td>\n",
       "      <td>...</td>\n",
       "      <td>...</td>\n",
       "      <td>...</td>\n",
       "      <td>...</td>\n",
       "      <td>...</td>\n",
       "      <td>...</td>\n",
       "      <td>...</td>\n",
       "      <td>...</td>\n",
       "      <td>...</td>\n",
       "      <td>...</td>\n",
       "      <td>...</td>\n",
       "      <td>...</td>\n",
       "      <td>...</td>\n",
       "      <td>...</td>\n",
       "      <td>...</td>\n",
       "    </tr>\n",
       "    <tr>\n",
       "      <th>204</th>\n",
       "      <td>Montserrat</td>\n",
       "      <td>North America</td>\n",
       "      <td>4.992000e+03</td>\n",
       "      <td>13</td>\n",
       "      <td>NaN</td>\n",
       "      <td>1.0</td>\n",
       "      <td>NaN</td>\n",
       "      <td>10.0</td>\n",
       "      <td>NaN</td>\n",
       "      <td>2.0</td>\n",
       "      <td>NaN</td>\n",
       "      <td>61.0</td>\n",
       "      <td>2604.166667</td>\n",
       "      <td>200.320513</td>\n",
       "      <td>12219.551282</td>\n",
       "      <td>2003.205128</td>\n",
       "    </tr>\n",
       "    <tr>\n",
       "      <th>205</th>\n",
       "      <td>Caribbean Netherlands</td>\n",
       "      <td>North America</td>\n",
       "      <td>2.624700e+04</td>\n",
       "      <td>13</td>\n",
       "      <td>NaN</td>\n",
       "      <td>NaN</td>\n",
       "      <td>NaN</td>\n",
       "      <td>7.0</td>\n",
       "      <td>NaN</td>\n",
       "      <td>6.0</td>\n",
       "      <td>NaN</td>\n",
       "      <td>424.0</td>\n",
       "      <td>495.294700</td>\n",
       "      <td>NaN</td>\n",
       "      <td>16154.227150</td>\n",
       "      <td>266.697146</td>\n",
       "    </tr>\n",
       "    <tr>\n",
       "      <th>206</th>\n",
       "      <td>Falkland Islands</td>\n",
       "      <td>South America</td>\n",
       "      <td>3.489000e+03</td>\n",
       "      <td>13</td>\n",
       "      <td>NaN</td>\n",
       "      <td>NaN</td>\n",
       "      <td>NaN</td>\n",
       "      <td>13.0</td>\n",
       "      <td>NaN</td>\n",
       "      <td>0.0</td>\n",
       "      <td>NaN</td>\n",
       "      <td>1816.0</td>\n",
       "      <td>3725.995987</td>\n",
       "      <td>NaN</td>\n",
       "      <td>520492.977931</td>\n",
       "      <td>3725.995987</td>\n",
       "    </tr>\n",
       "    <tr>\n",
       "      <th>207</th>\n",
       "      <td>Vatican City</td>\n",
       "      <td>Europe</td>\n",
       "      <td>8.010000e+02</td>\n",
       "      <td>12</td>\n",
       "      <td>NaN</td>\n",
       "      <td>NaN</td>\n",
       "      <td>NaN</td>\n",
       "      <td>12.0</td>\n",
       "      <td>NaN</td>\n",
       "      <td>0.0</td>\n",
       "      <td>NaN</td>\n",
       "      <td>NaN</td>\n",
       "      <td>14981.273408</td>\n",
       "      <td>NaN</td>\n",
       "      <td>NaN</td>\n",
       "      <td>14981.273408</td>\n",
       "    </tr>\n",
       "    <tr>\n",
       "      <th>208</th>\n",
       "      <td>Western Sahara</td>\n",
       "      <td>Africa</td>\n",
       "      <td>5.986820e+05</td>\n",
       "      <td>10</td>\n",
       "      <td>NaN</td>\n",
       "      <td>1.0</td>\n",
       "      <td>NaN</td>\n",
       "      <td>8.0</td>\n",
       "      <td>NaN</td>\n",
       "      <td>1.0</td>\n",
       "      <td>NaN</td>\n",
       "      <td>NaN</td>\n",
       "      <td>16.703358</td>\n",
       "      <td>1.670336</td>\n",
       "      <td>NaN</td>\n",
       "      <td>13.362687</td>\n",
       "    </tr>\n",
       "  </tbody>\n",
       "</table>\n",
       "<p>209 rows × 16 columns</p>\n",
       "</div>"
      ],
      "text/plain": [
       "            Country/Region      Continent    Population  TotalCases  NewCases  \\\n",
       "0                      USA  North America  3.311981e+08     5032179       NaN   \n",
       "1                   Brazil  South America  2.127107e+08     2917562       NaN   \n",
       "2                    India           Asia  1.381345e+09     2025409       NaN   \n",
       "3                   Russia         Europe  1.459409e+08      871894       NaN   \n",
       "4             South Africa         Africa  5.938157e+07      538184       NaN   \n",
       "..                     ...            ...           ...         ...       ...   \n",
       "204             Montserrat  North America  4.992000e+03          13       NaN   \n",
       "205  Caribbean Netherlands  North America  2.624700e+04          13       NaN   \n",
       "206       Falkland Islands  South America  3.489000e+03          13       NaN   \n",
       "207           Vatican City         Europe  8.010000e+02          12       NaN   \n",
       "208         Western Sahara         Africa  5.986820e+05          10       NaN   \n",
       "\n",
       "     TotalDeaths  NewDeaths  TotalRecovered  NewRecovered  ActiveCases  \\\n",
       "0       162804.0        NaN       2576668.0           NaN    2292707.0   \n",
       "1        98644.0        NaN       2047660.0           NaN     771258.0   \n",
       "2        41638.0        NaN       1377384.0           NaN     606387.0   \n",
       "3        14606.0        NaN        676357.0           NaN     180931.0   \n",
       "4         9604.0        NaN        387316.0           NaN     141264.0   \n",
       "..           ...        ...             ...           ...          ...   \n",
       "204          1.0        NaN            10.0           NaN          2.0   \n",
       "205          NaN        NaN             7.0           NaN          6.0   \n",
       "206          NaN        NaN            13.0           NaN          0.0   \n",
       "207          NaN        NaN            12.0           NaN          0.0   \n",
       "208          1.0        NaN             8.0           NaN          1.0   \n",
       "\n",
       "     Serious,Critical  TotalTests  totalcases_permil  totaldeaths_permil  \\\n",
       "0             18296.0  63139605.0       15193.862961          491.560746   \n",
       "1              8318.0  13206188.0       13716.104125          463.747257   \n",
       "2              8944.0  22149351.0        1466.258613           30.143085   \n",
       "3              2300.0  29716907.0        5974.294092          100.081592   \n",
       "4               539.0   3149807.0        9063.149328          161.733694   \n",
       "..                ...         ...                ...                 ...   \n",
       "204               NaN        61.0        2604.166667          200.320513   \n",
       "205               NaN       424.0         495.294700                 NaN   \n",
       "206               NaN      1816.0        3725.995987                 NaN   \n",
       "207               NaN         NaN       14981.273408                 NaN   \n",
       "208               NaN         NaN          16.703358            1.670336   \n",
       "\n",
       "     totaltests_permil  totalrecovered_permil  \n",
       "0        190639.980365            7779.838612  \n",
       "1         62085.210084            9626.502461  \n",
       "2         16034.626432             997.132507  \n",
       "3        203622.850846            4634.457433  \n",
       "4         53043.515222            6522.495550  \n",
       "..                 ...                    ...  \n",
       "204       12219.551282            2003.205128  \n",
       "205       16154.227150             266.697146  \n",
       "206      520492.977931            3725.995987  \n",
       "207                NaN           14981.273408  \n",
       "208                NaN              13.362687  \n",
       "\n",
       "[209 rows x 16 columns]"
      ]
     },
     "execution_count": 16,
     "metadata": {},
     "output_type": "execute_result"
    }
   ],
   "source": [
    "raw_df"
   ]
  },
  {
   "cell_type": "code",
   "execution_count": 17,
   "metadata": {},
   "outputs": [],
   "source": [
    "import jovian"
   ]
  },
  {
   "cell_type": "code",
   "execution_count": 18,
   "metadata": {},
   "outputs": [
    {
     "data": {
      "application/javascript": [
       "window.require && require([\"base/js/namespace\"],function(Jupyter){Jupyter.notebook.save_checkpoint()})"
      ],
      "text/plain": [
       "<IPython.core.display.Javascript object>"
      ]
     },
     "metadata": {},
     "output_type": "display_data"
    },
    {
     "name": "stdout",
     "output_type": "stream",
     "text": [
      "[jovian] Updating notebook \"shaikalfaaz8/zerotopandas-course-project-worldometer\" on https://jovian.ai\u001b[0m\n",
      "[jovian] Uploading additional files...\u001b[0m\n",
      "[jovian] Committed successfully! https://jovian.ai/shaikalfaaz8/zerotopandas-course-project-worldometer\u001b[0m\n"
     ]
    },
    {
     "data": {
      "text/plain": [
       "'https://jovian.ai/shaikalfaaz8/zerotopandas-course-project-worldometer'"
      ]
     },
     "execution_count": 18,
     "metadata": {},
     "output_type": "execute_result"
    }
   ],
   "source": [
    "jovian.commit(files=['worldometer_data.csv'])"
   ]
  },
  {
   "cell_type": "markdown",
   "metadata": {},
   "source": [
    "## Exploratory Analysis and Visualization\n",
    "\n",
    "To display the mean, standard deviation, min, max we use describe() method"
   ]
  },
  {
   "cell_type": "code",
   "execution_count": 19,
   "metadata": {
    "scrolled": true
   },
   "outputs": [
    {
     "data": {
      "text/html": [
       "<div>\n",
       "<style scoped>\n",
       "    .dataframe tbody tr th:only-of-type {\n",
       "        vertical-align: middle;\n",
       "    }\n",
       "\n",
       "    .dataframe tbody tr th {\n",
       "        vertical-align: top;\n",
       "    }\n",
       "\n",
       "    .dataframe thead th {\n",
       "        text-align: right;\n",
       "    }\n",
       "</style>\n",
       "<table border=\"1\" class=\"dataframe\">\n",
       "  <thead>\n",
       "    <tr style=\"text-align: right;\">\n",
       "      <th></th>\n",
       "      <th>Population</th>\n",
       "      <th>TotalCases</th>\n",
       "      <th>NewCases</th>\n",
       "      <th>TotalDeaths</th>\n",
       "      <th>NewDeaths</th>\n",
       "      <th>TotalRecovered</th>\n",
       "      <th>NewRecovered</th>\n",
       "      <th>ActiveCases</th>\n",
       "      <th>Serious,Critical</th>\n",
       "      <th>TotalTests</th>\n",
       "      <th>totalcases_permil</th>\n",
       "      <th>totaldeaths_permil</th>\n",
       "      <th>totaltests_permil</th>\n",
       "      <th>totalrecovered_permil</th>\n",
       "    </tr>\n",
       "  </thead>\n",
       "  <tbody>\n",
       "    <tr>\n",
       "      <th>count</th>\n",
       "      <td>2.080000e+02</td>\n",
       "      <td>2.090000e+02</td>\n",
       "      <td>4.000000</td>\n",
       "      <td>188.000000</td>\n",
       "      <td>3.000000</td>\n",
       "      <td>2.050000e+02</td>\n",
       "      <td>3.000000</td>\n",
       "      <td>2.050000e+02</td>\n",
       "      <td>122.000000</td>\n",
       "      <td>1.910000e+02</td>\n",
       "      <td>208.000000</td>\n",
       "      <td>187.000000</td>\n",
       "      <td>191.000000</td>\n",
       "      <td>204.000000</td>\n",
       "    </tr>\n",
       "    <tr>\n",
       "      <th>mean</th>\n",
       "      <td>3.041549e+07</td>\n",
       "      <td>9.171850e+04</td>\n",
       "      <td>1980.500000</td>\n",
       "      <td>3792.590426</td>\n",
       "      <td>300.000000</td>\n",
       "      <td>5.887898e+04</td>\n",
       "      <td>1706.000000</td>\n",
       "      <td>2.766433e+04</td>\n",
       "      <td>534.393443</td>\n",
       "      <td>1.402405e+06</td>\n",
       "      <td>3196.039219</td>\n",
       "      <td>98.690528</td>\n",
       "      <td>83959.347130</td>\n",
       "      <td>2413.515755</td>\n",
       "    </tr>\n",
       "    <tr>\n",
       "      <th>std</th>\n",
       "      <td>1.047661e+08</td>\n",
       "      <td>4.325867e+05</td>\n",
       "      <td>3129.611424</td>\n",
       "      <td>15487.184877</td>\n",
       "      <td>451.199512</td>\n",
       "      <td>2.566984e+05</td>\n",
       "      <td>2154.779803</td>\n",
       "      <td>1.746327e+05</td>\n",
       "      <td>2047.518613</td>\n",
       "      <td>5.553367e+06</td>\n",
       "      <td>5191.982005</td>\n",
       "      <td>174.936669</td>\n",
       "      <td>152730.595127</td>\n",
       "      <td>4643.467076</td>\n",
       "    </tr>\n",
       "    <tr>\n",
       "      <th>min</th>\n",
       "      <td>8.010000e+02</td>\n",
       "      <td>1.000000e+01</td>\n",
       "      <td>20.000000</td>\n",
       "      <td>1.000000</td>\n",
       "      <td>1.000000</td>\n",
       "      <td>7.000000e+00</td>\n",
       "      <td>42.000000</td>\n",
       "      <td>0.000000e+00</td>\n",
       "      <td>1.000000</td>\n",
       "      <td>6.100000e+01</td>\n",
       "      <td>2.745085</td>\n",
       "      <td>0.083877</td>\n",
       "      <td>4.015137</td>\n",
       "      <td>2.607830</td>\n",
       "    </tr>\n",
       "    <tr>\n",
       "      <th>25%</th>\n",
       "      <td>9.663140e+05</td>\n",
       "      <td>7.120000e+02</td>\n",
       "      <td>27.500000</td>\n",
       "      <td>22.000000</td>\n",
       "      <td>40.500000</td>\n",
       "      <td>3.340000e+02</td>\n",
       "      <td>489.000000</td>\n",
       "      <td>8.600000e+01</td>\n",
       "      <td>3.250000</td>\n",
       "      <td>2.575200e+04</td>\n",
       "      <td>282.098770</td>\n",
       "      <td>6.119175</td>\n",
       "      <td>8956.606491</td>\n",
       "      <td>190.012934</td>\n",
       "    </tr>\n",
       "    <tr>\n",
       "      <th>50%</th>\n",
       "      <td>7.041972e+06</td>\n",
       "      <td>4.491000e+03</td>\n",
       "      <td>656.000000</td>\n",
       "      <td>113.000000</td>\n",
       "      <td>80.000000</td>\n",
       "      <td>2.178000e+03</td>\n",
       "      <td>936.000000</td>\n",
       "      <td>8.990000e+02</td>\n",
       "      <td>27.500000</td>\n",
       "      <td>1.357020e+05</td>\n",
       "      <td>1015.042131</td>\n",
       "      <td>28.980506</td>\n",
       "      <td>32584.913454</td>\n",
       "      <td>612.897528</td>\n",
       "    </tr>\n",
       "    <tr>\n",
       "      <th>75%</th>\n",
       "      <td>2.575614e+07</td>\n",
       "      <td>3.689600e+04</td>\n",
       "      <td>2609.000000</td>\n",
       "      <td>786.000000</td>\n",
       "      <td>449.500000</td>\n",
       "      <td>2.055300e+04</td>\n",
       "      <td>2538.000000</td>\n",
       "      <td>7.124000e+03</td>\n",
       "      <td>160.250000</td>\n",
       "      <td>7.576960e+05</td>\n",
       "      <td>3842.198906</td>\n",
       "      <td>98.102258</td>\n",
       "      <td>92154.363521</td>\n",
       "      <td>2539.015688</td>\n",
       "    </tr>\n",
       "    <tr>\n",
       "      <th>max</th>\n",
       "      <td>1.381345e+09</td>\n",
       "      <td>5.032179e+06</td>\n",
       "      <td>6590.000000</td>\n",
       "      <td>162804.000000</td>\n",
       "      <td>819.000000</td>\n",
       "      <td>2.576668e+06</td>\n",
       "      <td>4140.000000</td>\n",
       "      <td>2.292707e+06</td>\n",
       "      <td>18296.000000</td>\n",
       "      <td>6.313960e+07</td>\n",
       "      <td>39921.575750</td>\n",
       "      <td>1237.550828</td>\n",
       "      <td>995281.935459</td>\n",
       "      <td>38760.170311</td>\n",
       "    </tr>\n",
       "  </tbody>\n",
       "</table>\n",
       "</div>"
      ],
      "text/plain": [
       "         Population    TotalCases     NewCases    TotalDeaths   NewDeaths  \\\n",
       "count  2.080000e+02  2.090000e+02     4.000000     188.000000    3.000000   \n",
       "mean   3.041549e+07  9.171850e+04  1980.500000    3792.590426  300.000000   \n",
       "std    1.047661e+08  4.325867e+05  3129.611424   15487.184877  451.199512   \n",
       "min    8.010000e+02  1.000000e+01    20.000000       1.000000    1.000000   \n",
       "25%    9.663140e+05  7.120000e+02    27.500000      22.000000   40.500000   \n",
       "50%    7.041972e+06  4.491000e+03   656.000000     113.000000   80.000000   \n",
       "75%    2.575614e+07  3.689600e+04  2609.000000     786.000000  449.500000   \n",
       "max    1.381345e+09  5.032179e+06  6590.000000  162804.000000  819.000000   \n",
       "\n",
       "       TotalRecovered  NewRecovered   ActiveCases  Serious,Critical  \\\n",
       "count    2.050000e+02      3.000000  2.050000e+02        122.000000   \n",
       "mean     5.887898e+04   1706.000000  2.766433e+04        534.393443   \n",
       "std      2.566984e+05   2154.779803  1.746327e+05       2047.518613   \n",
       "min      7.000000e+00     42.000000  0.000000e+00          1.000000   \n",
       "25%      3.340000e+02    489.000000  8.600000e+01          3.250000   \n",
       "50%      2.178000e+03    936.000000  8.990000e+02         27.500000   \n",
       "75%      2.055300e+04   2538.000000  7.124000e+03        160.250000   \n",
       "max      2.576668e+06   4140.000000  2.292707e+06      18296.000000   \n",
       "\n",
       "         TotalTests  totalcases_permil  totaldeaths_permil  totaltests_permil  \\\n",
       "count  1.910000e+02         208.000000          187.000000         191.000000   \n",
       "mean   1.402405e+06        3196.039219           98.690528       83959.347130   \n",
       "std    5.553367e+06        5191.982005          174.936669      152730.595127   \n",
       "min    6.100000e+01           2.745085            0.083877           4.015137   \n",
       "25%    2.575200e+04         282.098770            6.119175        8956.606491   \n",
       "50%    1.357020e+05        1015.042131           28.980506       32584.913454   \n",
       "75%    7.576960e+05        3842.198906           98.102258       92154.363521   \n",
       "max    6.313960e+07       39921.575750         1237.550828      995281.935459   \n",
       "\n",
       "       totalrecovered_permil  \n",
       "count             204.000000  \n",
       "mean             2413.515755  \n",
       "std              4643.467076  \n",
       "min                 2.607830  \n",
       "25%               190.012934  \n",
       "50%               612.897528  \n",
       "75%              2539.015688  \n",
       "max             38760.170311  "
      ]
     },
     "execution_count": 19,
     "metadata": {},
     "output_type": "execute_result"
    }
   ],
   "source": [
    "raw_df.describe()"
   ]
  },
  {
   "cell_type": "markdown",
   "metadata": {},
   "source": [
    "We can also get maximum of individual column by accessing the columns using '.' as shown below and by using max methods"
   ]
  },
  {
   "cell_type": "code",
   "execution_count": 20,
   "metadata": {},
   "outputs": [
    {
     "data": {
      "text/plain": [
       "1381344997.0"
      ]
     },
     "execution_count": 20,
     "metadata": {},
     "output_type": "execute_result"
    }
   ],
   "source": [
    "raw_df.Population.max()"
   ]
  },
  {
   "cell_type": "markdown",
   "metadata": {},
   "source": [
    "## Graphs \n",
    "#### Using matplotlib.pyplot and seaborn\n"
   ]
  },
  {
   "cell_type": "markdown",
   "metadata": {},
   "source": [
    "Importing the matplotlib.pyplot library as plt"
   ]
  },
  {
   "cell_type": "code",
   "execution_count": 21,
   "metadata": {},
   "outputs": [],
   "source": [
    "import matplotlib.pyplot as plt"
   ]
  },
  {
   "cell_type": "markdown",
   "metadata": {},
   "source": [
    "Plotting a graph between TotalDeaths and TotalCases on x and y axes respectively\n",
    "\n",
    "label is used to represent the axis names\n",
    "title for naming the graph and\n",
    "legend for representing the plot (if there are more than 1 plotted curves it will specify them)"
   ]
  },
  {
   "cell_type": "code",
   "execution_count": 22,
   "metadata": {},
   "outputs": [
    {
     "data": {
      "image/png": "[encoded data removed]",
      "text/plain": [
       "<Figure size 432x288 with 1 Axes>"
      ]
     },
     "metadata": {
      "needs_background": "light"
     },
     "output_type": "display_data"
    }
   ],
   "source": [
    "plt.plot(raw_df.TotalDeaths,raw_df.TotalCases)\n",
    "plt.xlabel('TotalDeaths')\n",
    "plt.ylabel('TotalCases')\n",
    "plt.title(\"Deaths vs Cases\")\n",
    "plt.legend(['TotalDeaths']);"
   ]
  },
  {
   "cell_type": "markdown",
   "metadata": {},
   "source": [
    "A Graph of TotalRecovered Vs TotalCases"
   ]
  },
  {
   "cell_type": "code",
   "execution_count": 23,
   "metadata": {
    "scrolled": true
   },
   "outputs": [
    {
     "data": {
      "image/png": "[encoded data removed]",
      "text/plain": [
       "<Figure size 432x288 with 1 Axes>"
      ]
     },
     "metadata": {
      "needs_background": "light"
     },
     "output_type": "display_data"
    }
   ],
   "source": [
    "plt.plot(raw_df.TotalRecovered,raw_df.TotalCases)\n",
    "plt.xlabel('TotalRecovered')\n",
    "plt.ylabel('TotalCases')\n",
    "plt.title(\"Recovered vs Cases\")\n",
    "plt.legend(['Totalrecovered']);"
   ]
  },
  {
   "cell_type": "markdown",
   "metadata": {},
   "source": [
    "Importing SEABORN library as sns, which is built on top of matplotlib.pyplot for describing the graphs in a more detailed manner"
   ]
  },
  {
   "cell_type": "code",
   "execution_count": 24,
   "metadata": {},
   "outputs": [],
   "source": [
    "import seaborn as sns"
   ]
  },
  {
   "cell_type": "markdown",
   "metadata": {},
   "source": [
    "Using the set_style method to apply a white grid to the graph"
   ]
  },
  {
   "cell_type": "code",
   "execution_count": 25,
   "metadata": {},
   "outputs": [],
   "source": [
    "sns.set_style('whitegrid')"
   ]
  },
  {
   "cell_type": "markdown",
   "metadata": {},
   "source": [
    "Plotting two curves total number of deaths and Recovered against total number of cases\n",
    "\n",
    "The third argument in the plot() represents fmt argument '[marker][line][color]'"
   ]
  },
  {
   "cell_type": "code",
   "execution_count": 26,
   "metadata": {},
   "outputs": [
    {
     "data": {
      "image/png": "[encoded data removed]",
      "text/plain": [
       "<Figure size 432x288 with 1 Axes>"
      ]
     },
     "metadata": {},
     "output_type": "display_data"
    }
   ],
   "source": [
    "\n",
    "plt.plot(raw_df.TotalCases,raw_df.TotalDeaths,'-b')\n",
    "plt.plot(raw_df.TotalCases,raw_df.TotalRecovered,'--r')\n",
    "\n",
    "plt.xlabel('TotalCases')\n",
    "plt.ylabel('deaths and recovery')\n",
    "\n",
    "plt.title('cases vs (deaths and recovery)')\n",
    "plt.legend(['TotalDeaths','TotalRecovered']);\n"
   ]
  },
  {
   "cell_type": "markdown",
   "metadata": {},
   "source": [
    "Creating a new dataframe from the raw dataframe having 10 rows(top) of specific columns as follows:\n",
    "\n"
   ]
  },
  {
   "cell_type": "code",
   "execution_count": 27,
   "metadata": {},
   "outputs": [],
   "source": [
    "modif_df = raw_df[['Continent','TotalCases','TotalDeaths','TotalTests','TotalRecovered']].head(10)"
   ]
  },
  {
   "cell_type": "code",
   "execution_count": 28,
   "metadata": {},
   "outputs": [
    {
     "data": {
      "text/html": [
       "<div>\n",
       "<style scoped>\n",
       "    .dataframe tbody tr th:only-of-type {\n",
       "        vertical-align: middle;\n",
       "    }\n",
       "\n",
       "    .dataframe tbody tr th {\n",
       "        vertical-align: top;\n",
       "    }\n",
       "\n",
       "    .dataframe thead th {\n",
       "        text-align: right;\n",
       "    }\n",
       "</style>\n",
       "<table border=\"1\" class=\"dataframe\">\n",
       "  <thead>\n",
       "    <tr style=\"text-align: right;\">\n",
       "      <th></th>\n",
       "      <th>Continent</th>\n",
       "      <th>TotalCases</th>\n",
       "      <th>TotalDeaths</th>\n",
       "      <th>TotalTests</th>\n",
       "      <th>TotalRecovered</th>\n",
       "    </tr>\n",
       "  </thead>\n",
       "  <tbody>\n",
       "    <tr>\n",
       "      <th>0</th>\n",
       "      <td>North America</td>\n",
       "      <td>5032179</td>\n",
       "      <td>162804.0</td>\n",
       "      <td>63139605.0</td>\n",
       "      <td>2576668.0</td>\n",
       "    </tr>\n",
       "    <tr>\n",
       "      <th>1</th>\n",
       "      <td>South America</td>\n",
       "      <td>2917562</td>\n",
       "      <td>98644.0</td>\n",
       "      <td>13206188.0</td>\n",
       "      <td>2047660.0</td>\n",
       "    </tr>\n",
       "    <tr>\n",
       "      <th>2</th>\n",
       "      <td>Asia</td>\n",
       "      <td>2025409</td>\n",
       "      <td>41638.0</td>\n",
       "      <td>22149351.0</td>\n",
       "      <td>1377384.0</td>\n",
       "    </tr>\n",
       "    <tr>\n",
       "      <th>3</th>\n",
       "      <td>Europe</td>\n",
       "      <td>871894</td>\n",
       "      <td>14606.0</td>\n",
       "      <td>29716907.0</td>\n",
       "      <td>676357.0</td>\n",
       "    </tr>\n",
       "    <tr>\n",
       "      <th>4</th>\n",
       "      <td>Africa</td>\n",
       "      <td>538184</td>\n",
       "      <td>9604.0</td>\n",
       "      <td>3149807.0</td>\n",
       "      <td>387316.0</td>\n",
       "    </tr>\n",
       "    <tr>\n",
       "      <th>5</th>\n",
       "      <td>North America</td>\n",
       "      <td>462690</td>\n",
       "      <td>50517.0</td>\n",
       "      <td>1056915.0</td>\n",
       "      <td>308848.0</td>\n",
       "    </tr>\n",
       "    <tr>\n",
       "      <th>6</th>\n",
       "      <td>South America</td>\n",
       "      <td>455409</td>\n",
       "      <td>20424.0</td>\n",
       "      <td>2493429.0</td>\n",
       "      <td>310337.0</td>\n",
       "    </tr>\n",
       "    <tr>\n",
       "      <th>7</th>\n",
       "      <td>South America</td>\n",
       "      <td>366671</td>\n",
       "      <td>9889.0</td>\n",
       "      <td>1760615.0</td>\n",
       "      <td>340168.0</td>\n",
       "    </tr>\n",
       "    <tr>\n",
       "      <th>8</th>\n",
       "      <td>South America</td>\n",
       "      <td>357710</td>\n",
       "      <td>11939.0</td>\n",
       "      <td>1801835.0</td>\n",
       "      <td>192355.0</td>\n",
       "    </tr>\n",
       "    <tr>\n",
       "      <th>9</th>\n",
       "      <td>Europe</td>\n",
       "      <td>354530</td>\n",
       "      <td>28500.0</td>\n",
       "      <td>7064329.0</td>\n",
       "      <td>NaN</td>\n",
       "    </tr>\n",
       "  </tbody>\n",
       "</table>\n",
       "</div>"
      ],
      "text/plain": [
       "       Continent  TotalCases  TotalDeaths  TotalTests  TotalRecovered\n",
       "0  North America     5032179     162804.0  63139605.0       2576668.0\n",
       "1  South America     2917562      98644.0  13206188.0       2047660.0\n",
       "2           Asia     2025409      41638.0  22149351.0       1377384.0\n",
       "3         Europe      871894      14606.0  29716907.0        676357.0\n",
       "4         Africa      538184       9604.0   3149807.0        387316.0\n",
       "5  North America      462690      50517.0   1056915.0        308848.0\n",
       "6  South America      455409      20424.0   2493429.0        310337.0\n",
       "7  South America      366671       9889.0   1760615.0        340168.0\n",
       "8  South America      357710      11939.0   1801835.0        192355.0\n",
       "9         Europe      354530      28500.0   7064329.0             NaN"
      ]
     },
     "execution_count": 28,
     "metadata": {},
     "output_type": "execute_result"
    }
   ],
   "source": [
    "modif_df"
   ]
  },
  {
   "cell_type": "markdown",
   "metadata": {},
   "source": [
    "plotting the Totalcases and TotalDeaths using plot function from matplotlib.pyplot"
   ]
  },
  {
   "cell_type": "code",
   "execution_count": 29,
   "metadata": {
    "scrolled": true
   },
   "outputs": [
    {
     "data": {
      "text/plain": [
       "[<matplotlib.lines.Line2D at 0x7f5bae570130>]"
      ]
     },
     "execution_count": 29,
     "metadata": {},
     "output_type": "execute_result"
    },
    {
     "data": {
      "image/png": "[encoded data removed]",
      "text/plain": [
       "<Figure size 432x288 with 1 Axes>"
      ]
     },
     "metadata": {},
     "output_type": "display_data"
    }
   ],
   "source": [
    "plt.plot(modif_df.TotalCases,modif_df.TotalDeaths)"
   ]
  },
  {
   "cell_type": "markdown",
   "metadata": {},
   "source": [
    "### Pivot function\n",
    "To represent the data in a more precise way similiar to a matrix we use pivot function.\n",
    "\n",
    "after performing pivot on modified data frame it will be stored in another variable to perform operations(like HEATMAPS)"
   ]
  },
  {
   "cell_type": "code",
   "execution_count": 30,
   "metadata": {},
   "outputs": [],
   "source": [
    "matmod_df=modif_df.pivot(index='Continent',columns='TotalCases',values=['TotalDeaths','TotalRecovered','TotalTests'])"
   ]
  },
  {
   "cell_type": "code",
   "execution_count": 31,
   "metadata": {},
   "outputs": [
    {
     "data": {
      "text/html": [
       "<div>\n",
       "<style scoped>\n",
       "    .dataframe tbody tr th:only-of-type {\n",
       "        vertical-align: middle;\n",
       "    }\n",
       "\n",
       "    .dataframe tbody tr th {\n",
       "        vertical-align: top;\n",
       "    }\n",
       "\n",
       "    .dataframe thead tr th {\n",
       "        text-align: left;\n",
       "    }\n",
       "\n",
       "    .dataframe thead tr:last-of-type th {\n",
       "        text-align: right;\n",
       "    }\n",
       "</style>\n",
       "<table border=\"1\" class=\"dataframe\">\n",
       "  <thead>\n",
       "    <tr>\n",
       "      <th></th>\n",
       "      <th colspan=\"10\" halign=\"left\">TotalDeaths</th>\n",
       "      <th>...</th>\n",
       "      <th colspan=\"10\" halign=\"left\">TotalTests</th>\n",
       "    </tr>\n",
       "    <tr>\n",
       "      <th>TotalCases</th>\n",
       "      <th>354530</th>\n",
       "      <th>357710</th>\n",
       "      <th>366671</th>\n",
       "      <th>455409</th>\n",
       "      <th>462690</th>\n",
       "      <th>538184</th>\n",
       "      <th>871894</th>\n",
       "      <th>2025409</th>\n",
       "      <th>2917562</th>\n",
       "      <th>5032179</th>\n",
       "      <th>...</th>\n",
       "      <th>354530</th>\n",
       "      <th>357710</th>\n",
       "      <th>366671</th>\n",
       "      <th>455409</th>\n",
       "      <th>462690</th>\n",
       "      <th>538184</th>\n",
       "      <th>871894</th>\n",
       "      <th>2025409</th>\n",
       "      <th>2917562</th>\n",
       "      <th>5032179</th>\n",
       "    </tr>\n",
       "    <tr>\n",
       "      <th>Continent</th>\n",
       "      <th></th>\n",
       "      <th></th>\n",
       "      <th></th>\n",
       "      <th></th>\n",
       "      <th></th>\n",
       "      <th></th>\n",
       "      <th></th>\n",
       "      <th></th>\n",
       "      <th></th>\n",
       "      <th></th>\n",
       "      <th></th>\n",
       "      <th></th>\n",
       "      <th></th>\n",
       "      <th></th>\n",
       "      <th></th>\n",
       "      <th></th>\n",
       "      <th></th>\n",
       "      <th></th>\n",
       "      <th></th>\n",
       "      <th></th>\n",
       "      <th></th>\n",
       "    </tr>\n",
       "  </thead>\n",
       "  <tbody>\n",
       "    <tr>\n",
       "      <th>Africa</th>\n",
       "      <td>NaN</td>\n",
       "      <td>NaN</td>\n",
       "      <td>NaN</td>\n",
       "      <td>NaN</td>\n",
       "      <td>NaN</td>\n",
       "      <td>9604.0</td>\n",
       "      <td>NaN</td>\n",
       "      <td>NaN</td>\n",
       "      <td>NaN</td>\n",
       "      <td>NaN</td>\n",
       "      <td>...</td>\n",
       "      <td>NaN</td>\n",
       "      <td>NaN</td>\n",
       "      <td>NaN</td>\n",
       "      <td>NaN</td>\n",
       "      <td>NaN</td>\n",
       "      <td>3149807.0</td>\n",
       "      <td>NaN</td>\n",
       "      <td>NaN</td>\n",
       "      <td>NaN</td>\n",
       "      <td>NaN</td>\n",
       "    </tr>\n",
       "    <tr>\n",
       "      <th>Asia</th>\n",
       "      <td>NaN</td>\n",
       "      <td>NaN</td>\n",
       "      <td>NaN</td>\n",
       "      <td>NaN</td>\n",
       "      <td>NaN</td>\n",
       "      <td>NaN</td>\n",
       "      <td>NaN</td>\n",
       "      <td>41638.0</td>\n",
       "      <td>NaN</td>\n",
       "      <td>NaN</td>\n",
       "      <td>...</td>\n",
       "      <td>NaN</td>\n",
       "      <td>NaN</td>\n",
       "      <td>NaN</td>\n",
       "      <td>NaN</td>\n",
       "      <td>NaN</td>\n",
       "      <td>NaN</td>\n",
       "      <td>NaN</td>\n",
       "      <td>22149351.0</td>\n",
       "      <td>NaN</td>\n",
       "      <td>NaN</td>\n",
       "    </tr>\n",
       "    <tr>\n",
       "      <th>Europe</th>\n",
       "      <td>28500.0</td>\n",
       "      <td>NaN</td>\n",
       "      <td>NaN</td>\n",
       "      <td>NaN</td>\n",
       "      <td>NaN</td>\n",
       "      <td>NaN</td>\n",
       "      <td>14606.0</td>\n",
       "      <td>NaN</td>\n",
       "      <td>NaN</td>\n",
       "      <td>NaN</td>\n",
       "      <td>...</td>\n",
       "      <td>7064329.0</td>\n",
       "      <td>NaN</td>\n",
       "      <td>NaN</td>\n",
       "      <td>NaN</td>\n",
       "      <td>NaN</td>\n",
       "      <td>NaN</td>\n",
       "      <td>29716907.0</td>\n",
       "      <td>NaN</td>\n",
       "      <td>NaN</td>\n",
       "      <td>NaN</td>\n",
       "    </tr>\n",
       "    <tr>\n",
       "      <th>North America</th>\n",
       "      <td>NaN</td>\n",
       "      <td>NaN</td>\n",
       "      <td>NaN</td>\n",
       "      <td>NaN</td>\n",
       "      <td>50517.0</td>\n",
       "      <td>NaN</td>\n",
       "      <td>NaN</td>\n",
       "      <td>NaN</td>\n",
       "      <td>NaN</td>\n",
       "      <td>162804.0</td>\n",
       "      <td>...</td>\n",
       "      <td>NaN</td>\n",
       "      <td>NaN</td>\n",
       "      <td>NaN</td>\n",
       "      <td>NaN</td>\n",
       "      <td>1056915.0</td>\n",
       "      <td>NaN</td>\n",
       "      <td>NaN</td>\n",
       "      <td>NaN</td>\n",
       "      <td>NaN</td>\n",
       "      <td>63139605.0</td>\n",
       "    </tr>\n",
       "    <tr>\n",
       "      <th>South America</th>\n",
       "      <td>NaN</td>\n",
       "      <td>11939.0</td>\n",
       "      <td>9889.0</td>\n",
       "      <td>20424.0</td>\n",
       "      <td>NaN</td>\n",
       "      <td>NaN</td>\n",
       "      <td>NaN</td>\n",
       "      <td>NaN</td>\n",
       "      <td>98644.0</td>\n",
       "      <td>NaN</td>\n",
       "      <td>...</td>\n",
       "      <td>NaN</td>\n",
       "      <td>1801835.0</td>\n",
       "      <td>1760615.0</td>\n",
       "      <td>2493429.0</td>\n",
       "      <td>NaN</td>\n",
       "      <td>NaN</td>\n",
       "      <td>NaN</td>\n",
       "      <td>NaN</td>\n",
       "      <td>13206188.0</td>\n",
       "      <td>NaN</td>\n",
       "    </tr>\n",
       "  </tbody>\n",
       "</table>\n",
       "<p>5 rows × 30 columns</p>\n",
       "</div>"
      ],
      "text/plain": [
       "              TotalDeaths                                                      \\\n",
       "TotalCases        354530   357710  366671   455409   462690  538184   871894    \n",
       "Continent                                                                       \n",
       "Africa                NaN      NaN     NaN      NaN      NaN  9604.0      NaN   \n",
       "Asia                  NaN      NaN     NaN      NaN      NaN     NaN      NaN   \n",
       "Europe            28500.0      NaN     NaN      NaN      NaN     NaN  14606.0   \n",
       "North America         NaN      NaN     NaN      NaN  50517.0     NaN      NaN   \n",
       "South America         NaN  11939.0  9889.0  20424.0      NaN     NaN      NaN   \n",
       "\n",
       "                                           ... TotalTests             \\\n",
       "TotalCases     2025409  2917562   5032179  ...    354530     357710    \n",
       "Continent                                  ...                         \n",
       "Africa             NaN      NaN       NaN  ...        NaN        NaN   \n",
       "Asia           41638.0      NaN       NaN  ...        NaN        NaN   \n",
       "Europe             NaN      NaN       NaN  ...  7064329.0        NaN   \n",
       "North America      NaN      NaN  162804.0  ...        NaN        NaN   \n",
       "South America      NaN  98644.0       NaN  ...        NaN  1801835.0   \n",
       "\n",
       "                                                                       \\\n",
       "TotalCases       366671     455409     462690     538184      871894    \n",
       "Continent                                                               \n",
       "Africa               NaN        NaN        NaN  3149807.0         NaN   \n",
       "Asia                 NaN        NaN        NaN        NaN         NaN   \n",
       "Europe               NaN        NaN        NaN        NaN  29716907.0   \n",
       "North America        NaN        NaN  1056915.0        NaN         NaN   \n",
       "South America  1760615.0  2493429.0        NaN        NaN         NaN   \n",
       "\n",
       "                                                   \n",
       "TotalCases        2025409     2917562     5032179  \n",
       "Continent                                          \n",
       "Africa                NaN         NaN         NaN  \n",
       "Asia           22149351.0         NaN         NaN  \n",
       "Europe                NaN         NaN         NaN  \n",
       "North America         NaN         NaN  63139605.0  \n",
       "South America         NaN  13206188.0         NaN  \n",
       "\n",
       "[5 rows x 30 columns]"
      ]
     },
     "execution_count": 31,
     "metadata": {},
     "output_type": "execute_result"
    }
   ],
   "source": [
    "matmod_df"
   ]
  },
  {
   "cell_type": "markdown",
   "metadata": {},
   "source": [
    "## HEATMAP"
   ]
  },
  {
   "cell_type": "markdown",
   "metadata": {},
   "source": [
    "After converting the data into a matrix type as shown above we are gonna represent a heat map using .heatmap() function present in seaborn, on continents and per million units"
   ]
  },
  {
   "cell_type": "code",
   "execution_count": 32,
   "metadata": {},
   "outputs": [
    {
     "data": {
      "image/png": "[encoded data removed]",
      "text/plain": [
       "<Figure size 432x288 with 2 Axes>"
      ]
     },
     "metadata": {},
     "output_type": "display_data"
    }
   ],
   "source": [
    "sns.heatmap(matmod_df);"
   ]
  },
  {
   "cell_type": "code",
   "execution_count": 33,
   "metadata": {},
   "outputs": [],
   "source": [
    "import jovian"
   ]
  },
  {
   "cell_type": "code",
   "execution_count": null,
   "metadata": {},
   "outputs": [
    {
     "data": {
      "application/javascript": [
       "window.require && require([\"base/js/namespace\"],function(Jupyter){Jupyter.notebook.save_checkpoint()})"
      ],
      "text/plain": [
       "<IPython.core.display.Javascript object>"
      ]
     },
     "metadata": {},
     "output_type": "display_data"
    }
   ],
   "source": [
    "jovian.commit(files=['worldometer_data.csv'])"
   ]
  },
  {
   "cell_type": "markdown",
   "metadata": {},
   "source": [
    "## Asking and Answering Questions\n",
    "\n"
   ]
  },
  {
   "cell_type": "markdown",
   "metadata": {},
   "source": [
    "1) Calculate total deaths, total cases and totalrecovered for each continent"
   ]
  },
  {
   "cell_type": "markdown",
   "metadata": {},
   "source": [
    "first store the data from the raw_df data frame grouped by continents so that we can easily perform operations "
   ]
  },
  {
   "cell_type": "code",
   "execution_count": null,
   "metadata": {},
   "outputs": [],
   "source": [
    "raw_df"
   ]
  },
  {
   "cell_type": "code",
   "execution_count": null,
   "metadata": {},
   "outputs": [],
   "source": [
    "tot = raw_df.groupby('Continent')"
   ]
  },
  {
   "cell_type": "markdown",
   "metadata": {},
   "source": [
    "now apply sum on the required columns i.e here TotalDeaths, TotalCases and TotalRecovered "
   ]
  },
  {
   "cell_type": "code",
   "execution_count": null,
   "metadata": {},
   "outputs": [],
   "source": [
    "tot[['TotalDeaths','TotalCases','TotalRecovered']].sum()"
   ]
  },
  {
   "cell_type": "markdown",
   "metadata": {},
   "source": [
    "2) Arrange the data in descending order as per total deaths per million"
   ]
  },
  {
   "cell_type": "markdown",
   "metadata": {},
   "source": [
    "By applying sort_values on the dataframe and by giving false boolean value to ascending it will sort them in descending order"
   ]
  },
  {
   "cell_type": "code",
   "execution_count": null,
   "metadata": {},
   "outputs": [],
   "source": [
    "raw_df.sort_values('totaldeaths_permil',ascending=False)"
   ]
  },
  {
   "cell_type": "markdown",
   "metadata": {},
   "source": [
    "3) Retrieve the continents having highest Recovery rate and least Recovery rate"
   ]
  },
  {
   "cell_type": "code",
   "execution_count": null,
   "metadata": {},
   "outputs": [],
   "source": [
    "hrcon = raw_df.sort_values('TotalRecovered',ascending=False).head(1)"
   ]
  },
  {
   "cell_type": "code",
   "execution_count": null,
   "metadata": {
    "scrolled": true
   },
   "outputs": [],
   "source": [
    "hrcon"
   ]
  },
  {
   "cell_type": "code",
   "execution_count": null,
   "metadata": {},
   "outputs": [],
   "source": [
    "hrcon['Continent']"
   ]
  },
  {
   "cell_type": "code",
   "execution_count": null,
   "metadata": {
    "scrolled": true
   },
   "outputs": [],
   "source": [
    "lrcon=raw_df.sort_values('TotalRecovered',ascending=False).tail(1)"
   ]
  },
  {
   "cell_type": "code",
   "execution_count": null,
   "metadata": {},
   "outputs": [],
   "source": [
    "lrcon"
   ]
  },
  {
   "cell_type": "code",
   "execution_count": null,
   "metadata": {},
   "outputs": [],
   "source": [
    "lrcon['Continent']"
   ]
  },
  {
   "cell_type": "markdown",
   "metadata": {},
   "source": [
    "4) Plot a histogram for each continent and its correspondion total cases, total deaths, total tests and total recovery per millions"
   ]
  },
  {
   "cell_type": "markdown",
   "metadata": {},
   "source": [
    "Importing seaborn as sns and then passing parameters continents and total cases, total deaths, total tests and total recovery per millions respectively in each graph"
   ]
  },
  {
   "cell_type": "code",
   "execution_count": null,
   "metadata": {},
   "outputs": [],
   "source": [
    "import seaborn as sns"
   ]
  },
  {
   "cell_type": "markdown",
   "metadata": {},
   "source": [
    "To draw bar-graphs we have barplot in seaborn which takes x, y and data as arguments"
   ]
  },
  {
   "cell_type": "code",
   "execution_count": null,
   "metadata": {},
   "outputs": [],
   "source": [
    "sns.barplot('Continent','totalcases_permil',data=raw_df)"
   ]
  },
  {
   "cell_type": "code",
   "execution_count": null,
   "metadata": {},
   "outputs": [],
   "source": [
    "sns.barplot('Continent','totaldeaths_permil',data=raw_df)"
   ]
  },
  {
   "cell_type": "code",
   "execution_count": null,
   "metadata": {},
   "outputs": [],
   "source": [
    "sns.barplot('Continent','totaltests_permil',data=raw_df)"
   ]
  },
  {
   "cell_type": "code",
   "execution_count": null,
   "metadata": {},
   "outputs": [],
   "source": [
    "sns.barplot('Continent','totalrecovered_permil',data=raw_df)"
   ]
  },
  {
   "cell_type": "markdown",
   "metadata": {},
   "source": [
    "5) Draw a piechart for 15 highest Active cases "
   ]
  },
  {
   "cell_type": "code",
   "execution_count": null,
   "metadata": {},
   "outputs": [],
   "source": [
    "hac_df = raw_df.sort_values('ActiveCases',ascending=False).head(15)"
   ]
  },
  {
   "cell_type": "code",
   "execution_count": null,
   "metadata": {},
   "outputs": [],
   "source": [
    "hac_df"
   ]
  },
  {
   "cell_type": "code",
   "execution_count": null,
   "metadata": {},
   "outputs": [],
   "source": [
    "import matplotlib.pyplot as plt"
   ]
  },
  {
   "cell_type": "code",
   "execution_count": null,
   "metadata": {
    "scrolled": true
   },
   "outputs": [],
   "source": [
    "hac_df.ActiveCases.plot.pie(labels = raw_df.Country/Region,radius = 2)\n",
    "\n",
    "plt.show()"
   ]
  },
  {
   "cell_type": "code",
   "execution_count": null,
   "metadata": {},
   "outputs": [],
   "source": [
    "import jovian"
   ]
  },
  {
   "cell_type": "code",
   "execution_count": null,
   "metadata": {},
   "outputs": [],
   "source": [
    "jovian.commit(files=['worldometer_data.csv'])"
   ]
  },
  {
   "cell_type": "markdown",
   "metadata": {},
   "source": [
    "## Inferences and Conclusion\n",
    "\n",
    "TODO"
   ]
  },
  {
   "cell_type": "markdown",
   "metadata": {},
   "source": [
    "This is a Data Analysis project on COVID_19 data taken from worldometer \n",
    "\n",
    "Here I have focused mainly on Total tests, Total cases,Total Deaths\n",
    "\n",
    "you can apply the same operations on new cases i.e on instance data to get more understandable of the current covid situation all across the world."
   ]
  },
  {
   "cell_type": "markdown",
   "metadata": {},
   "source": [
    "The barplot graphs are quite intresting as it directly gives the standard deviation lines on each bar, which gives information about how data is distributed"
   ]
  },
  {
   "cell_type": "markdown",
   "metadata": {},
   "source": [
    "For more detailed information about pie charts you can visit https://indianaiproduction.com/matplotlib-pie-chart/"
   ]
  },
  {
   "cell_type": "markdown",
   "metadata": {},
   "source": [
    "The entire data is being modified for every 24 hours you can see it on the live webpage https://www.worldometers.info/coronavirus/ for further information"
   ]
  },
  {
   "cell_type": "code",
   "execution_count": null,
   "metadata": {},
   "outputs": [],
   "source": [
    "import jovian"
   ]
  },
  {
   "cell_type": "code",
   "execution_count": null,
   "metadata": {},
   "outputs": [],
   "source": [
    "jovian.commit(files=['worldometer_data.csv'])"
   ]
  },
  {
   "cell_type": "markdown",
   "metadata": {},
   "source": [
    "## References and Future Work\n",
    "\n",
    "You can use the above links to further understanding and analysing the data! "
   ]
  },
  {
   "cell_type": "code",
   "execution_count": null,
   "metadata": {},
   "outputs": [],
   "source": [
    "import jovian"
   ]
  },
  {
   "cell_type": "code",
   "execution_count": null,
   "metadata": {},
   "outputs": [],
   "source": [
    "jovian.commit(files=['worldometer_data.csv'])"
   ]
  },
  {
   "cell_type": "code",
   "execution_count": null,
   "metadata": {},
   "outputs": [],
   "source": []
  }
 ],
 "metadata": {
  "language_info": {
   "codemirror_mode": {
    "name": "ipython",
    "version": 3
   },
   "file_extension": ".py",
   "mimetype": "text/x-python",
   "name": "python",
   "nbconvert_exporter": "python",
   "pygments_lexer": "ipython3",
   "version": "3.9.6"
  }
 },
 "nbformat": 4,
 "nbformat_minor": 4
}